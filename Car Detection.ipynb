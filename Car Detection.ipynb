{
 "cells": [
  {
   "cell_type": "markdown",
   "metadata": {},
   "source": [
    "## Import Libraries"
   ]
  },
  {
   "cell_type": "code",
   "execution_count": null,
   "metadata": {},
   "outputs": [],
   "source": [
    "import cv2\n",
    "import numpy as np"
   ]
  },
  {
   "cell_type": "markdown",
   "metadata": {},
   "source": [
    "## Create Classifier"
   ]
  },
  {
   "cell_type": "code",
   "execution_count": null,
   "metadata": {},
   "outputs": [],
   "source": [
    "car_classifier = cv2.CascadeClassifier('Haarcascade/haarcascade_car.xml')"
   ]
  },
  {
   "cell_type": "markdown",
   "metadata": {},
   "source": [
    "## Capture Video"
   ]
  },
  {
   "cell_type": "code",
   "execution_count": null,
   "metadata": {},
   "outputs": [],
   "source": [
    "cap = cv2.VideoCapture('Video/Vehicles.mp4')"
   ]
  },
  {
   "cell_type": "markdown",
   "metadata": {},
   "source": [
    "## Magic"
   ]
  },
  {
   "cell_type": "code",
   "execution_count": null,
   "metadata": {},
   "outputs": [],
   "source": [
    "# While Loop\n",
    "while cap.isOpened():\n",
    "    # Read The Capture\n",
    "    ret, frame = cap.read()\n",
    "    \n",
    "    # Pass the frame to the Classifier\n",
    "    cars = car_classifier.detectMultiScale(frame, 1.2, 3)\n",
    "    \n",
    "    # If Statement\n",
    "    if ret == True:\n",
    "        # Bound Boxes to Identified Bodies\n",
    "        cv2,rectangle(frame,\n",
    "                     (x, y),\n",
    "                     (x+w, y+h),\n",
    "                     (25, 125, 225),\n",
    "                     5)\n",
    "        cv2.imshow('Cars', frame)\n",
    "        \n",
    "        # Exit with Esc Button\n",
    "        if cv2.waitkey(1) & 0xFF == 27:\n",
    "            break\n",
    "            \n",
    "    # else Statement\n",
    "    else:\n",
    "        break\n",
    "        \n",
    "# Release the capture & Destroy All Windows\n",
    "cap.release()\n",
    "cv2.destroyAllWindows()"
   ]
  }
 ],
 "metadata": {
  "kernelspec": {
   "display_name": "Python 3",
   "language": "python",
   "name": "python3"
  },
  "language_info": {
   "codemirror_mode": {
    "name": "ipython",
    "version": 3
   },
   "file_extension": ".py",
   "mimetype": "text/x-python",
   "name": "python",
   "nbconvert_exporter": "python",
   "pygments_lexer": "ipython3",
   "version": "3.7.6"
  }
 },
 "nbformat": 4,
 "nbformat_minor": 4
}
